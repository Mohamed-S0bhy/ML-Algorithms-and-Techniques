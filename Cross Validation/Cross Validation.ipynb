{
 "cells": [
  {
   "cell_type": "code",
   "execution_count": 11,
   "id": "3d7ceeb2-28dd-4f19-aa50-5f98feb0ff3f",
   "metadata": {},
   "outputs": [],
   "source": [
    "from sklearn.datasets import load_iris\n",
    "from sklearn.tree import DecisionTreeRegressor\n",
    "from sklearn.model_selection import cross_val_score\n",
    "from sklearn.tree import DecisionTreeClassifier\n",
    "import numpy as np\n",
    "from sklearn.ensemble import RandomForestClassifier\n",
    "from sklearn.svm import SVC\n",
    "from sklearn.neighbors import KNeighborsClassifier"
   ]
  },
  {
   "cell_type": "code",
   "execution_count": 2,
   "id": "d032f88b-e545-4655-83f8-8abd199eeb2a",
   "metadata": {},
   "outputs": [],
   "source": [
    "iris = load_iris()\n",
    "X, y = iris.data, iris.target"
   ]
  },
  {
   "cell_type": "markdown",
   "id": "59c10fbc-c0da-4393-979a-438e65bb3476",
   "metadata": {},
   "source": [
    "### One Model"
   ]
  },
  {
   "cell_type": "markdown",
   "id": "7f818e51-5fcd-4221-9560-454fae2c9a33",
   "metadata": {},
   "source": [
    "Classification"
   ]
  },
  {
   "cell_type": "code",
   "execution_count": 3,
   "id": "87cb42be-6271-4518-ab25-e182a4bd8e5a",
   "metadata": {},
   "outputs": [],
   "source": [
    "model = DecisionTreeClassifier()"
   ]
  },
  {
   "cell_type": "code",
   "execution_count": 4,
   "id": "b8440120-fd7c-447f-a030-9207da90832f",
   "metadata": {},
   "outputs": [],
   "source": [
    "scores = cross_val_score(model, X, y, cv=5)"
   ]
  },
  {
   "cell_type": "code",
   "execution_count": 5,
   "id": "b36a5322-ca00-4c37-93b6-50698978ca55",
   "metadata": {},
   "outputs": [
    {
     "name": "stdout",
     "output_type": "stream",
     "text": [
      "Cross-Validation Scores: [0.96666667 0.96666667 0.9        0.93333333 1.        ]\n",
      "Mean Accuracy: 0.95\n",
      "Standard Deviation: 0.03\n"
     ]
    }
   ],
   "source": [
    "print(f\"Cross-Validation Scores: {scores}\")\n",
    "print(f\"Mean Accuracy: {np.mean(scores):.2f}\")\n",
    "print(f\"Standard Deviation: {np.std(scores):.2f}\")"
   ]
  },
  {
   "cell_type": "markdown",
   "id": "d3806b4c-f592-4d3f-8840-e873a21a60f4",
   "metadata": {},
   "source": [
    "Regression"
   ]
  },
  {
   "cell_type": "code",
   "execution_count": 8,
   "id": "a820724f-c0de-448e-83eb-80feb2b836fc",
   "metadata": {},
   "outputs": [],
   "source": [
    "model = DecisionTreeRegressor()"
   ]
  },
  {
   "cell_type": "code",
   "execution_count": 9,
   "id": "9ff3d47f-3693-4cce-b818-67679d90581c",
   "metadata": {},
   "outputs": [],
   "source": [
    "scores = cross_val_score(model, X, y, cv=5, scoring='neg_mean_squared_error')  # Use 'neg_mean_squared_error' for regression"
   ]
  },
  {
   "cell_type": "code",
   "execution_count": 10,
   "id": "bec84ea2-4217-4b55-8572-0c778e81d95a",
   "metadata": {},
   "outputs": [
    {
     "name": "stdout",
     "output_type": "stream",
     "text": [
      "Cross-Validation Scores (Negative MSE): [-0.         -0.         -0.16666667 -0.06666667 -0.26666667]\n",
      "Mean MSE: 0.10\n",
      "Standard Deviation: 0.10\n"
     ]
    }
   ],
   "source": [
    "print(f\"Cross-Validation Scores (Negative MSE): {scores}\")\n",
    "print(f\"Mean MSE: {-np.mean(scores):.2f}\")  # Convert negative MSE back to positive\n",
    "print(f\"Standard Deviation: {np.std(scores):.2f}\")"
   ]
  },
  {
   "cell_type": "markdown",
   "id": "d3da0916-dccc-4e23-b6be-0662bf9096c7",
   "metadata": {},
   "source": [
    "### Comparing Between Models"
   ]
  },
  {
   "cell_type": "code",
   "execution_count": 12,
   "id": "1db484ac-9886-4a13-a493-30de488fbc1d",
   "metadata": {},
   "outputs": [],
   "source": [
    "models = {\n",
    "    'Decision Tree': DecisionTreeClassifier(),\n",
    "    'Random Forest': RandomForestClassifier(),\n",
    "    'SVM': SVC(),\n",
    "    'K-Nearest Neighbors': KNeighborsClassifier()\n",
    "}"
   ]
  },
  {
   "cell_type": "code",
   "execution_count": 13,
   "id": "ff7602b0-c0ef-40ab-a631-dd06e7d66529",
   "metadata": {},
   "outputs": [
    {
     "name": "stdout",
     "output_type": "stream",
     "text": [
      "Decision Tree:\n",
      "  Cross-Validation Scores: [0.96666667 0.96666667 0.9        0.96666667 1.        ]\n",
      "  Mean Accuracy: 0.96\n",
      "  Standard Deviation: 0.03\n",
      "\n",
      "Random Forest:\n",
      "  Cross-Validation Scores: [0.96666667 0.96666667 0.9        0.96666667 1.        ]\n",
      "  Mean Accuracy: 0.96\n",
      "  Standard Deviation: 0.03\n",
      "\n",
      "SVM:\n",
      "  Cross-Validation Scores: [0.96666667 0.96666667 0.96666667 0.93333333 1.        ]\n",
      "  Mean Accuracy: 0.97\n",
      "  Standard Deviation: 0.02\n",
      "\n",
      "K-Nearest Neighbors:\n",
      "  Cross-Validation Scores: [0.96666667 1.         0.93333333 0.96666667 1.        ]\n",
      "  Mean Accuracy: 0.97\n",
      "  Standard Deviation: 0.02\n",
      "\n"
     ]
    }
   ],
   "source": [
    "for name, model in models.items():\n",
    "    scores = cross_val_score(model, X, y, cv=5)  # 5-fold cross-validation\n",
    "    print(f\"{name}:\")\n",
    "    print(f\"  Cross-Validation Scores: {scores}\")\n",
    "    print(f\"  Mean Accuracy: {np.mean(scores):.2f}\")\n",
    "    print(f\"  Standard Deviation: {np.std(scores):.2f}\")\n",
    "    print()"
   ]
  },
  {
   "cell_type": "code",
   "execution_count": null,
   "id": "6182c60c-f52a-4ff1-bacf-e079e795af4d",
   "metadata": {},
   "outputs": [],
   "source": []
  }
 ],
 "metadata": {
  "kernelspec": {
   "display_name": "Python 3 (ipykernel)",
   "language": "python",
   "name": "python3"
  },
  "language_info": {
   "codemirror_mode": {
    "name": "ipython",
    "version": 3
   },
   "file_extension": ".py",
   "mimetype": "text/x-python",
   "name": "python",
   "nbconvert_exporter": "python",
   "pygments_lexer": "ipython3",
   "version": "3.11.5"
  }
 },
 "nbformat": 4,
 "nbformat_minor": 5
}
